{
 "cells": [
  {
   "cell_type": "code",
   "execution_count": 9,
   "metadata": {
    "id": "tYM4msfATgH-"
   },
   "outputs": [],
   "source": [
    "import os\n",
    "import os\n",
    "import shutil"
   ]
  },
  {
   "cell_type": "code",
   "execution_count": 10,
   "metadata": {
    "colab": {
     "base_uri": "https://localhost:8080/"
    },
    "id": "L9yDuSrfr8I0",
    "outputId": "c4aa94b7-886b-4845-a8e2-b36d2d03a4ea"
   },
   "outputs": [
    {
     "name": "stdout",
     "output_type": "stream",
     "text": [
      "Requirement already satisfied: pysimplegui in c:\\programdata\\anaconda3\\lib\\site-packages (4.60.4)\n",
      "Note: you may need to restart the kernel to use updated packages.\n"
     ]
    }
   ],
   "source": [
    "pip install pysimplegui"
   ]
  },
  {
   "cell_type": "code",
   "execution_count": 11,
   "metadata": {},
   "outputs": [
    {
     "data": {
      "text/plain": [
       "[]"
      ]
     },
     "execution_count": 11,
     "metadata": {},
     "output_type": "execute_result"
    }
   ],
   "source": [
    "dep=[]\n",
    "list(dep)\n",
    "filenames=[]\n",
    "list(filenames)"
   ]
  },
  {
   "cell_type": "code",
   "execution_count": 23,
   "metadata": {
    "colab": {
     "base_uri": "https://localhost:8080/",
     "height": 408
    },
    "id": "3hOwR8s9sWZH",
    "outputId": "59fa2bfd-d8b1-494c-fa0a-e9d2a70fc656"
   },
   "outputs": [
    {
     "name": "stdout",
     "output_type": "stream",
     "text": [
      "Get it O:/Факультет ИТиАБД/ПМ21-5/Павлов Арсений Евгеньевич - 218219/Прочее\n",
      "Get it 2\n",
      "O:/Факультет ИТиАБД/ПМ21-5/Павлов Арсений Евгеньевич - 218219/Прочее/PC\n",
      "PC_12343.xlsx\n",
      "PC_345.txt\n",
      "O:/Факультет ИТиАБД/ПМ21-5/Павлов Арсений Евгеньевич - 218219/Прочее/SG\n",
      "SG_123.txt\n",
      "SG_345.vsdx\n",
      "sorted\n"
     ]
    }
   ],
   "source": [
    "import os\n",
    "import shutil\n",
    "import PySimpleGUI as sg\n",
    "papka=sg.popup_get_folder('Get folder', title=\"Folder selector\")\n",
    "print (\"Get it\", papka)\n",
    "files=os.listdir(papka)\n",
    "f=[k for k in files if os.path.isdir(papka)]\n",
    "try:\n",
    "  os.mkdir(f'{papka}/Trash') #Создание папки прочее для файлов без названия деп-та\n",
    "except FileExistsError: #Проверка на существование данной папки\n",
    "  pass\n",
    "k=1\n",
    "while k!=0:\n",
    "    length1 = sg.popup_get_text('Choose len of names of departments abreviature', title=\"Textbox\")\n",
    "    length1=int(length1)\n",
    "    print (\"Get it\" ,length1)\n",
    "    if (type(length1)==int):\n",
    "        length=length1\n",
    "        k=k-1\n",
    "    else:\n",
    "        print(\"incorrect format,try again(ONLY NUMS)\")\n",
    "        print(type(length1))\n",
    "        pass\n",
    "os.chdir(papka)\n",
    "num=0\n",
    "for j in files:\n",
    "  if len(j.split('_')[0])==length: #Длина названий всех деп-тов указывается ранее\n",
    "    if j.split('_')[0] not in dep:\n",
    "      dep.append(str((j.split('_')[0])))\n",
    "      try:\n",
    "        os.mkdir(dep[num])\n",
    "      except FileExistsError: #Проверка на существование данной папки\n",
    "        pass\n",
    "      num+=1\n",
    "num=0\n",
    "for j in files:\n",
    "  if j.split('_')[0] in dep:\n",
    "    papka1=papka+'/'+j\n",
    "    try:\n",
    "        os.mkdir(j.split('_')[0])\n",
    "        print(papka + '/' + j.split('_')[0])\n",
    "    except FileExistsError: #Проверка на существование данной папки\n",
    "        pass\n",
    "    try:\n",
    "        os.mkdir(j.split('_')[0] + '/' + j.split('.')[-1])\n",
    "    except: \n",
    "        pass\n",
    "    try:\n",
    "        shutil.move(j, j.split('_')[0] + '/' + j.split('.')[-1])\n",
    "    except: \n",
    "        pass\n",
    "    print(j)\n",
    "  else:\n",
    "    if(j!='.ipynb_checkpoints' and j!='Trash'):\n",
    "      papka1=papka+'/'+'Trash'\n",
    "      print(j)\n",
    "      os.replace(j, papka1+'/'+j)\n",
    "print('sorted')"
   ]
  },
  {
   "cell_type": "code",
   "execution_count": null,
   "metadata": {},
   "outputs": [],
   "source": []
  }
 ],
 "metadata": {
  "colab": {
   "provenance": []
  },
  "kernelspec": {
   "display_name": "Python 3 (ipykernel)",
   "language": "python",
   "name": "python3"
  },
  "language_info": {
   "codemirror_mode": {
    "name": "ipython",
    "version": 3
   },
   "file_extension": ".py",
   "mimetype": "text/x-python",
   "name": "python",
   "nbconvert_exporter": "python",
   "pygments_lexer": "ipython3",
   "version": "3.9.7"
  }
 },
 "nbformat": 4,
 "nbformat_minor": 1
}
